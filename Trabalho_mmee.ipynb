{
 "cells": [
  {
   "cell_type": "markdown",
   "metadata": {},
   "source": [
    "# Bibliotecas Importadas"
   ]
  },
  {
   "cell_type": "code",
   "execution_count": null,
   "metadata": {},
   "outputs": [],
   "source": [
    "import math\n",
    "import matplotlib.pyplot as plt\n",
    "import numpy as np"
   ]
  },
  {
   "cell_type": "markdown",
   "metadata": {},
   "source": [
    "# Questão 1"
   ]
  },
  {
   "cell_type": "markdown",
   "metadata": {},
   "source": [
    "#### a) Aproximando a função $F(x) = \\sqrt{x}$ por seus polinômios de Taylor em torno de a = 25"
   ]
  },
  {
   "cell_type": "markdown",
   "metadata": {},
   "source": [
    "É possivel ver que a medida que o grau dos polinômios de Taylor cresce, o gráfico do polinômio se aproxima cada vez mais do gráfico da função no ponto em questão (x = a = 25)"
   ]
  },
  {
   "cell_type": "markdown",
   "metadata": {},
   "source": [
    "##### Iniciando a função raiz de X"
   ]
  },
  {
   "cell_type": "code",
   "execution_count": null,
   "metadata": {},
   "outputs": [],
   "source": [
    "x = np.arange(0,50,0.1)\n",
    "Funcao = np.sqrt(x)"
   ]
  },
  {
   "cell_type": "markdown",
   "metadata": {},
   "source": [
    "##### Aproximação pelo polinômio de Taylor de grau 1"
   ]
  },
  {
   "cell_type": "code",
   "execution_count": null,
   "metadata": {},
   "outputs": [],
   "source": [
    "polinomio_grau1 = [5 + (x-25)/10 for x in x]\n",
    "\n",
    "fig1, imagem1 = plt.subplots(figsize = (10,5))\n",
    "imagem1.plot (x,Funcao)\n",
    "imagem1.plot (x,polinomio_grau1)\n",
    "\n",
    "imagem1.set_xlim([0,50])\n",
    "imagem1.set_ylim([0,10])\n",
    "\n",
    "imagem1.legend(['Função','Aproximação_polinomial'],fontsize=10)\n",
    "\n",
    "plt.grid()\n",
    "\n",
    "plt.show"
   ]
  },
  {
   "cell_type": "markdown",
   "metadata": {},
   "source": [
    "##### Aproximação pelo polinômio de Taylor de grau 2"
   ]
  },
  {
   "cell_type": "code",
   "execution_count": null,
   "metadata": {},
   "outputs": [],
   "source": [
    "polinomio_grau2 = [5 + (x-25)/10 - ((x-25)**2)/500 for x in x]\n",
    "\n",
    "fig2, imagem2 = plt.subplots(figsize = (10,5))\n",
    "imagem2.plot (x,Funcao)\n",
    "imagem2.plot (x,polinomio_grau2)\n",
    "\n",
    "imagem2.set_xlim([0,50])\n",
    "imagem2.set_ylim([0,10])\n",
    "\n",
    "imagem2.legend(['Função','Aproximação_polinomial'],fontsize=10)\n",
    "\n",
    "plt.grid()\n",
    "\n",
    "plt.show"
   ]
  },
  {
   "cell_type": "markdown",
   "metadata": {},
   "source": [
    "##### Aproximação pelo polinômio de Taylor de grau 3"
   ]
  },
  {
   "cell_type": "code",
   "execution_count": null,
   "metadata": {},
   "outputs": [],
   "source": [
    "polinomio_grau3 = [5 + (1/10)*(x-25) - (1/500)*((x-25)**2) + (3/25000)*((x-25)**3) for x in x]\n",
    "\n",
    "fig3, imagem3 = plt.subplots(figsize = (10,5))\n",
    "imagem3.plot (x,Funcao)\n",
    "imagem3.plot (x,polinomio_grau3)\n",
    "\n",
    "imagem3.set_xlim([0,50])\n",
    "imagem3.set_ylim([0,10])\n",
    "\n",
    "imagem3.legend(['Função','Aproximação_polinomial'],fontsize=10)\n",
    "\n",
    "plt.grid()\n",
    "\n",
    "plt.show"
   ]
  },
  {
   "cell_type": "markdown",
   "metadata": {},
   "source": [
    "##### Aproximação pelo polinômio de Taylor de grau 4"
   ]
  },
  {
   "cell_type": "code",
   "execution_count": null,
   "metadata": {},
   "outputs": [],
   "source": [
    "polinomio_grau4 = [5 + (1/10)*(x-25) - (1/500)*((x-25)**2) + (3/25000)*((x-25)**3) - (3/250000)*((x-25)**4) for x in x]\n",
    "\n",
    "fig4, imagem4 = plt.subplots(figsize = (10,5))\n",
    "imagem4.plot (x,Funcao)\n",
    "imagem4.plot (x,polinomio_grau4)\n",
    "\n",
    "imagem4.set_xlim([0,50])\n",
    "imagem4.set_ylim([0,10])\n",
    "\n",
    "imagem4.legend(['Função','Aproximação_polinomial'],fontsize=10)\n",
    "\n",
    "plt.grid()\n",
    "\n",
    "plt.show"
   ]
  },
  {
   "cell_type": "markdown",
   "metadata": {},
   "source": [
    "#### b) Estimando a exatidão da aproximação da função $F(x) = \\sqrt{x}$ pelo seu polinômio de Taylor de grau 4"
   ]
  },
  {
   "cell_type": "markdown",
   "metadata": {},
   "source": [
    "Considerando a soma parcial da função $\\sqrt{x}$ em torno de 25 indo até o polinômio de grau 4, o resto da mesma se torna muito pequeno no intervalo de $25<= x <=26$ e pode ser considerado desprezível. Dessa forma, pode se dizer que o polinômio de Taylor de grau 4 da função é uma boa aproximação para a função em pontos próximos de $x = 25$ "
   ]
  },
  {
   "cell_type": "code",
   "execution_count": 37,
   "metadata": {},
   "outputs": [
    {
     "name": "stdout",
     "output_type": "stream",
     "text": [
      "Valores de x:\n",
      "[25.   25.05 25.1  25.15 25.2  25.25 25.3  25.35 25.4  25.45 25.5  25.55\n",
      " 25.6  25.65 25.7  25.75 25.8  25.85 25.9  25.95]\n",
      "Valores do resto de acordo com x :\n",
      "[0.0, 4.335840627570021e-15, 1.3750748154963466e-13, 1.0348881586665068e-12, 4.322207568692646e-12, 1.3073199751462763e-11, 3.2242002180212084e-11, 6.907127295406073e-11, 1.3347695991285587e-10, 2.3841062351709186e-10, 4.002001844183244e-10, 6.388699367530423e-10, 9.78440639291291e-10, 1.447210468627531e-09, 2.0780175915834694e-09, 2.9084850878701878e-09, 3.9812489288001345e-09, 5.344169693419756e-09, 7.050528679823036e-09, 9.159209046578118e-09]\n"
     ]
    },
    {
     "data": {
      "text/plain": [
       "<function matplotlib.pyplot.show(close=None, block=None)>"
      ]
     },
     "execution_count": 37,
     "metadata": {},
     "output_type": "execute_result"
    },
    {
     "data": {
      "image/png": "[encoded data removed]",
      "text/plain": [
       "<Figure size 720x360 with 1 Axes>"
      ]
     },
     "metadata": {
      "needs_background": "light"
     },
     "output_type": "display_data"
    }
   ],
   "source": [
    "x2 = np.arange(25,26,0.05)\n",
    "\n",
    "print (\"Valores de x:\")\n",
    "print(x2)\n",
    "\n",
    "Resto_polinomio_grau4 = [((105/3840)*((x2-25)**5))/(x2**(9/2)) for x2 in  x2]\n",
    "\n",
    "print(\"Valores do resto de acordo com x :\")\n",
    "print(Resto_polinomio_grau4)\n",
    "\n",
    "fig5, imagem5 = plt.subplots(figsize = (10,5))\n",
    "imagem5.plot (x2,Resto_polinomio_grau4)\n",
    "\n",
    "imagem5.set_xlim([25,26])\n",
    "imagem5.set_ylim([-1,1])\n",
    "\n",
    "imagem5.legend(['Resto de grau 4 com (25 < x < 26)'],fontsize=10)\n",
    "\n",
    "plt.grid()\n",
    "\n",
    "plt.show"
   ]
  },
  {
   "cell_type": "markdown",
   "metadata": {},
   "source": [
    "segundo o gráfico, o resto é praticamente 0"
   ]
  },
  {
   "cell_type": "markdown",
   "metadata": {},
   "source": [
    "# Questão 2"
   ]
  },
  {
   "cell_type": "code",
   "execution_count": null,
   "metadata": {},
   "outputs": [],
   "source": []
  }
 ],
 "metadata": {
  "kernelspec": {
   "display_name": "Python 3.9.12 ('base')",
   "language": "python",
   "name": "python3"
  },
  "language_info": {
   "codemirror_mode": {
    "name": "ipython",
    "version": 3
   },
   "file_extension": ".py",
   "mimetype": "text/x-python",
   "name": "python",
   "nbconvert_exporter": "python",
   "pygments_lexer": "ipython3",
   "version": "3.9.12"
  },
  "vscode": {
   "interpreter": {
    "hash": "91302b9bb8acdf523fac4f1fdc6c9da87477876babc091848b9484652bee9318"
   }
  }
 },
 "nbformat": 4,
 "nbformat_minor": 2
}
