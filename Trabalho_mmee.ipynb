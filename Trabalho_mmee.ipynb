{
 "cells": [
  {
   "cell_type": "markdown",
   "metadata": {},
   "source": [
    "# Bibliotecas Importadas"
   ]
  },
  {
   "cell_type": "code",
   "execution_count": null,
   "metadata": {},
   "outputs": [],
   "source": [
    "import math\n",
    "import matplotlib.pyplot as plt\n",
    "import numpy as np"
   ]
  },
  {
   "cell_type": "markdown",
   "metadata": {},
   "source": [
    "# Questão 1"
   ]
  },
  {
   "cell_type": "markdown",
   "metadata": {},
   "source": [
    "#### a) Aproximando a função $F(x) = \\sqrt{x}$ por seus polinômios de Taylor em torno de a = 25"
   ]
  },
  {
   "cell_type": "markdown",
   "metadata": {},
   "source": [
    "É possivel ver que a medida que o grau dos polinômios de Taylor cresce, o gráfico do polinômio se aproxima cada vez mais do gráfico da função no ponto em questão (x = a = 25)"
   ]
  },
  {
   "cell_type": "markdown",
   "metadata": {},
   "source": [
    "##### Iniciando a função raiz de X"
   ]
  },
  {
   "cell_type": "code",
   "execution_count": null,
   "metadata": {},
   "outputs": [],
   "source": [
    "x = np.arange(0,50,1)\n",
    "Funcao = np.sqrt(x)"
   ]
  },
  {
   "cell_type": "markdown",
   "metadata": {},
   "source": [
    "##### Aproximação pelo polinômio de Taylor de grau 1"
   ]
  },
  {
   "cell_type": "code",
   "execution_count": null,
   "metadata": {},
   "outputs": [],
   "source": [
    "polinomio_grau1 = [5 + (x-25)/10 for x in x]\n",
    "\n",
    "fig1, imagem1 = plt.subplots(figsize = (10,5))\n",
    "imagem1.plot (x,Funcao)\n",
    "imagem1.plot (x,polinomio_grau1)\n",
    "\n",
    "imagem1.set_xlim([0,50])\n",
    "imagem1.set_ylim([0,10])\n",
    "\n",
    "imagem1.legend(['Função','Aproximação_polinomial'],fontsize=10)\n",
    "\n",
    "plt.grid()\n",
    "\n",
    "plt.show"
   ]
  },
  {
   "cell_type": "markdown",
   "metadata": {},
   "source": [
    "##### Aproximação pelo polinômio de Taylor de grau 2"
   ]
  },
  {
   "cell_type": "code",
   "execution_count": null,
   "metadata": {},
   "outputs": [],
   "source": [
    "polinomio_grau2 = [5 + (x-25)/10 - ((x-25)**2)/500 for x in x]\n",
    "\n",
    "fig2, imagem2 = plt.subplots(figsize = (10,5))\n",
    "imagem2.plot (x,Funcao)\n",
    "imagem2.plot (x,polinomio_grau2)\n",
    "\n",
    "imagem2.set_xlim([0,50])\n",
    "imagem2.set_ylim([0,10])\n",
    "\n",
    "imagem2.legend(['Função','Aproximação_polinomial'],fontsize=10)\n",
    "\n",
    "plt.grid()\n",
    "\n",
    "plt.show"
   ]
  },
  {
   "cell_type": "markdown",
   "metadata": {},
   "source": [
    "##### Aproximação pelo polinômio de Taylor de grau 3"
   ]
  },
  {
   "cell_type": "code",
   "execution_count": null,
   "metadata": {},
   "outputs": [],
   "source": [
    "polinomio_grau3 = [5 + (1/10)*(x-25) - (1/500)*((x-25)**2) + (3/25000)*((x-25)**3) for x in x]\n",
    "\n",
    "fig3, imagem3 = plt.subplots(figsize = (10,5))\n",
    "imagem3.plot (x,Funcao)\n",
    "imagem3.plot (x,polinomio_grau3)\n",
    "\n",
    "imagem3.set_xlim([0,50])\n",
    "imagem3.set_ylim([0,10])\n",
    "\n",
    "imagem3.legend(['Função','Aproximação_polinomial'],fontsize=10)\n",
    "\n",
    "plt.grid()\n",
    "\n",
    "plt.show"
   ]
  },
  {
   "cell_type": "markdown",
   "metadata": {},
   "source": [
    "##### Aproximação pelo polinômio de Taylor de grau 4"
   ]
  },
  {
   "cell_type": "code",
   "execution_count": null,
   "metadata": {},
   "outputs": [],
   "source": [
    "polinomio_grau4 = [5 + (1/10)*(x-25) - (1/500)*((x-25)**2) + (3/25000)*((x-25)**3) - (3/250000)*((x-25)**4) for x in x]\n",
    "\n",
    "fig4, imagem4 = plt.subplots(figsize = (10,5))\n",
    "imagem4.plot (x,Funcao)\n",
    "imagem4.plot (x,polinomio_grau4)\n",
    "\n",
    "imagem4.set_xlim([0,50])\n",
    "imagem4.set_ylim([0,10])\n",
    "\n",
    "imagem4.legend(['Função','Aproximação_polinomial'],fontsize=10)\n",
    "\n",
    "plt.grid()\n",
    "\n",
    "plt.show"
   ]
  },
  {
   "cell_type": "markdown",
   "metadata": {},
   "source": [
    "#### b) Estimando a exatidão da aproximação da função $F(x) = \\sqrt{x}$ pelo seu polinômio de Taylor de grau 4"
   ]
  }
 ],
 "metadata": {
  "kernelspec": {
   "display_name": "Python 3",
   "language": "python",
   "name": "python3"
  },
  "language_info": {
   "codemirror_mode": {
    "name": "ipython",
    "version": 3
   },
   "file_extension": ".py",
   "mimetype": "text/x-python",
   "name": "python",
   "nbconvert_exporter": "python",
   "pygments_lexer": "ipython3",
   "version": "3.6.9"
  },
  "vscode": {
   "interpreter": {
    "hash": "31f2aee4e71d21fbe5cf8b01ff0e069b9275f58929596ceb00d14d90e3e16cd6"
   }
  }
 },
 "nbformat": 4,
 "nbformat_minor": 2
}
